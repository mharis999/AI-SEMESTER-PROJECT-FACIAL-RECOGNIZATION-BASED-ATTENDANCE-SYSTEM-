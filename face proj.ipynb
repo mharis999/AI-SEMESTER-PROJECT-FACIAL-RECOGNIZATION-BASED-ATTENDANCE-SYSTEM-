{
 "cells": [
  {
   "cell_type": "code",
   "execution_count": 1,
   "id": "a9b829ae",
   "metadata": {},
   "outputs": [],
   "source": [
    "import cv2"
   ]
  },
  {
   "cell_type": "code",
   "execution_count": 2,
   "id": "05730226",
   "metadata": {},
   "outputs": [],
   "source": [
    "import numpy as np\n"
   ]
  },
  {
   "cell_type": "code",
   "execution_count": 3,
   "id": "0d423525",
   "metadata": {},
   "outputs": [],
   "source": [
    "import os"
   ]
  },
  {
   "cell_type": "code",
   "execution_count": 4,
   "id": "0e8a4a8a",
   "metadata": {},
   "outputs": [],
   "source": [
    "import face_recognition\n"
   ]
  },
  {
   "cell_type": "code",
   "execution_count": 5,
   "id": "bb34244e",
   "metadata": {},
   "outputs": [],
   "source": [
    "import os\n",
    "from datetime import datetime\n"
   ]
  },
  {
   "cell_type": "code",
   "execution_count": 6,
   "id": "b893f224",
   "metadata": {},
   "outputs": [
    {
     "name": "stdout",
     "output_type": "stream",
     "text": [
      "['ahmed.jpg', 'Imran khan.jpg', 'kamlesh.jpg', 'mharis.jpg', 'Muzamil.jpg', 'SARTAJ.jpg', 'zardari.png']\n"
     ]
    }
   ],
   "source": [
    "path = 'images'\n",
    "images = []\n",
    "personNames = []\n",
    "myList = os.listdir(path)\n",
    "print(myList)\n"
   ]
  },
  {
   "cell_type": "code",
   "execution_count": 7,
   "id": "23e4c8cb",
   "metadata": {},
   "outputs": [],
   "source": [
    "import cv2\n"
   ]
  },
  {
   "cell_type": "code",
   "execution_count": 8,
   "id": "320212fb",
   "metadata": {},
   "outputs": [
    {
     "name": "stdout",
     "output_type": "stream",
     "text": [
      "['ahmed', 'Imran khan', 'kamlesh', 'mharis', 'Muzamil', 'SARTAJ', 'zardari']\n"
     ]
    }
   ],
   "source": [
    "for cu_img in myList:\n",
    "    current_Img = cv2.imread(f'{path}/{cu_img}')\n",
    "    images.append(current_Img)\n",
    "    personNames.append(os.path.splitext(cu_img)[0])\n",
    "print(personNames)\n"
   ]
  },
  {
   "cell_type": "code",
   "execution_count": 9,
   "id": "1a38f513",
   "metadata": {},
   "outputs": [],
   "source": [
    "def faceEncodings(images):\n",
    "    encodeList = []\n",
    "    for img in images:\n",
    "        img = cv2.cvtColor(img, cv2.COLOR_BGR2RGB)\n",
    "        encode = face_recognition.face_encodings(img)[0]\n",
    "        encodeList.append(encode)\n",
    "    return encodeList\n"
   ]
  },
  {
   "cell_type": "code",
   "execution_count": 10,
   "id": "b9d50fb1",
   "metadata": {},
   "outputs": [],
   "source": [
    "def attendance(name):\n",
    "    with open('Attendance.csv', 'r+') as f:\n",
    "        myDataList = f.readlines()\n",
    "        nameList = []\n",
    "        for line in myDataList:\n",
    "            entry = line.split(',')\n",
    "            nameList.append(entry[0])\n",
    "        if name not in nameList:\n",
    "            time_now = datetime.now()\n",
    "            tStr = time_now.strftime('%H:%M:%S')\n",
    "            dStr = time_now.strftime('%d/%m/%Y')\n",
    "            f.writelines(f'\\n{name},{tStr},{dStr}')"
   ]
  },
  {
   "cell_type": "code",
   "execution_count": 11,
   "id": "6df6c3b5",
   "metadata": {},
   "outputs": [
    {
     "name": "stdout",
     "output_type": "stream",
     "text": [
      "All Encodings Complete!!!\n"
     ]
    }
   ],
   "source": [
    "encodeListKnown = faceEncodings(images)\n",
    "print('All Encodings Complete!!!')"
   ]
  },
  {
   "cell_type": "code",
   "execution_count": 14,
   "id": "64bc7e1e",
   "metadata": {},
   "outputs": [],
   "source": [
    "cap = cv2.VideoCapture(0)\n",
    "\n"
   ]
  },
  {
   "cell_type": "code",
   "execution_count": null,
   "id": "fd36d61d",
   "metadata": {},
   "outputs": [
    {
     "name": "stdout",
     "output_type": "stream",
     "text": [
      "MHARIS\n",
      "MHARIS\n",
      "MHARIS\n",
      "MHARIS\n",
      "MHARIS\n",
      "MHARIS\n",
      "MHARIS\n",
      "MHARIS\n",
      "MHARIS\n",
      "MHARIS\n",
      "MHARIS\n",
      "KAMLESH\n",
      "MHARIS\n",
      "MHARIS\n",
      "MHARIS\n",
      "MHARIS\n",
      "MHARIS\n",
      "MHARIS\n",
      "MHARIS\n",
      "MUZAMIL\n",
      "MHARIS\n",
      "MHARIS\n",
      "KAMLESH\n",
      "KAMLESH\n"
     ]
    }
   ],
   "source": [
    "while True:\n",
    "    ret, frame = cap.read()\n",
    "    faces = cv2.resize(frame, (0, 0), None, 0.25, 0.25)\n",
    "    faces = cv2.cvtColor(faces, cv2.COLOR_BGR2RGB)\n",
    "\n",
    "    facesCurrentFrame = face_recognition.face_locations(faces)\n",
    "    encodesCurrentFrame = face_recognition.face_encodings(faces, facesCurrentFrame)\n",
    "\n",
    "    for encodeFace, faceLoc in zip(encodesCurrentFrame, facesCurrentFrame):\n",
    "        matches = face_recognition.compare_faces(encodeListKnown, encodeFace)\n",
    "        faceDis = face_recognition.face_distance(encodeListKnown, encodeFace)\n",
    "        # print(faceDis)\n",
    "        matchIndex = np.argmin(faceDis)\n",
    "\n",
    "        if matches[matchIndex]:\n",
    "            name = personNames[matchIndex].upper()\n",
    "            print(name)\n",
    "            y1, x2, y2, x1 = faceLoc\n",
    "            y1, x2, y2, x1 = y1 * 4, x2 * 4, y2 * 4, x1 * 4\n",
    "            cv2.rectangle(frame, (x1, y1), (x2, y2), (0, 255, 0), 2)\n",
    "            cv2.rectangle(frame, (x1, y2 - 35), (x2, y2), (0, 255, 0), cv2.FILLED)\n",
    "            cv2.putText(frame, name, (x1 + 6, y2 - 6), cv2.FONT_HERSHEY_COMPLEX, 1, (255, 255, 255), 2)\n",
    "            attendance(name)\n",
    "\n",
    "    cv2.imshow('Webcam', frame)\n",
    "    if cv2.waitKey(1) == 13:\n",
    "        break\n",
    "\n",
    "cap.release()\n",
    "cv2.destroyAllWindows()\n",
    "\n"
   ]
  },
  {
   "cell_type": "code",
   "execution_count": null,
   "id": "145b5ee3",
   "metadata": {},
   "outputs": [],
   "source": []
  },
  {
   "cell_type": "code",
   "execution_count": null,
   "id": "1271b909",
   "metadata": {},
   "outputs": [],
   "source": []
  }
 ],
 "metadata": {
  "kernelspec": {
   "display_name": "Python 3 (ipykernel)",
   "language": "python",
   "name": "python3"
  },
  "language_info": {
   "codemirror_mode": {
    "name": "ipython",
    "version": 3
   },
   "file_extension": ".py",
   "mimetype": "text/x-python",
   "name": "python",
   "nbconvert_exporter": "python",
   "pygments_lexer": "ipython3",
   "version": "3.9.7"
  }
 },
 "nbformat": 4,
 "nbformat_minor": 5
}
